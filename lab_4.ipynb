{
 "cells": [
  {
   "cell_type": "code",
   "execution_count": 49,
   "metadata": {},
   "outputs": [],
   "source": [
    "def hurst_exponent_direct(data):\n",
    "    \"\"\"\n",
    "    Обчислює показник Хьорста методом безпосереднього підрахунку\n",
    "    \n",
    "    Аргументи:\n",
    "    data (list): Вхідна вибірка даних\n",
    "    \n",
    "    Повертає:\n",
    "    float: Оцінене значення показника Хьорста\n",
    "    \"\"\"\n",
    "    n = len(data)\n",
    "    \n",
    "    # Знаходимо максимум, мінімум і середнє\n",
    "    max_value = max(data)\n",
    "    min_value = min(data)\n",
    "    mean_value = sum(data) / n\n",
    "    \n",
    "    # Розрахунок стандартного відхилення\n",
    "    s = (sum((x - mean_value) ** 2 for x in data) / n) ** 0.5\n",
    "    \n",
    "    # Розрахунок логарифмів вручну\n",
    "    def manual_log(x):\n",
    "        result = 0\n",
    "        while x > 1:\n",
    "            x /= 2\n",
    "            result += 1\n",
    "        return result + (x - 1) / x  # Лінійна апроксимація\n",
    "    \n",
    "    # Розрахунок R/S та Hurst\n",
    "    r = max_value - min_value\n",
    "    hurst = manual_log(r / s) / manual_log(n)\n",
    "    \n",
    "    return hurst"
   ]
  },
  {
   "cell_type": "code",
   "execution_count": 50,
   "metadata": {},
   "outputs": [],
   "source": [
    "data = pd.read_excel('lab_4.xls')"
   ]
  },
  {
   "cell_type": "code",
   "execution_count": 51,
   "metadata": {},
   "outputs": [],
   "source": [
    "data = data['Вариант1']"
   ]
  },
  {
   "cell_type": "code",
   "execution_count": 52,
   "metadata": {},
   "outputs": [
    {
     "name": "stdout",
     "output_type": "stream",
     "text": [
      "Показник Хьорста методом безпосереднього підрахунку: 0.21559319571078764\n"
     ]
    }
   ],
   "source": [
    "print(f'Показник Хьорста методом безпосереднього підрахунку: {hurst_exponent_direct(data)}')"
   ]
  }
 ],
 "metadata": {
  "kernelspec": {
   "display_name": "base",
   "language": "python",
   "name": "python3"
  },
  "language_info": {
   "codemirror_mode": {
    "name": "ipython",
    "version": 3
   },
   "file_extension": ".py",
   "mimetype": "text/x-python",
   "name": "python",
   "nbconvert_exporter": "python",
   "pygments_lexer": "ipython3",
   "version": "3.12.7"
  }
 },
 "nbformat": 4,
 "nbformat_minor": 2
}
